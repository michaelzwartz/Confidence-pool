{
 "cells": [
  {
   "cell_type": "code",
   "execution_count": 1,
   "metadata": {},
   "outputs": [],
   "source": [
    "import pandas as pd\n",
    "import numpy as np\n"
   ]
  },
  {
   "cell_type": "code",
   "execution_count": 2,
   "metadata": {},
   "outputs": [],
   "source": [
    "#function to combine picks and point values\n",
    "def combine(df1):\n",
    "    my_file = df1.copy()\n",
    "    rows = my_file.shape[0]\n",
    "    i = 2 \n",
    "    while i < rows:\n",
    "        for col in my_file.loc[:, my_file.columns != 'Game']:\n",
    "            my_file[col][i+1] = float(my_file[col][i+1])\n",
    "            my_file[col][i] = [my_file[col][i], my_file[col][i+1]]\n",
    "        i = i+2\n",
    "    \n",
    "    my_file.drop([5, 7, 9, 11, 13, 15, 17, 19, 21, 23, 25, 27, 29, 31, 33, 35, 37, 39, 41], axis=0, inplace=True)\n",
    "    return my_file\n",
    "\n",
    "#function to calculate totals\n",
    "def totals(df):\n",
    "    max_score = 0\n",
    "    games = len(df.columns)-1\n",
    "    points = 16\n",
    "    while games > 0:\n",
    "        max_score = max_score + points\n",
    "        points = points - 1\n",
    "        games = games - 1\n",
    "    i = 4  \n",
    "    df['Score'] = 0\n",
    "    df['Game Count'] = 0\n",
    "    df['Max Score'] = max_score\n",
    "    while i < 41:\n",
    "        for col in df.loc[:, ~df.columns.isin(['Game', 'Score', 'Game Count', 'Max Score'])]:\n",
    "            if df[col][0] is np.nan:\n",
    "                break\n",
    "            \n",
    "            elif df[col][0] == df[col][i][0]:\n",
    "                df.loc[i, 'Game Count'] = df.loc[i, 'Game Count'] + 1\n",
    "                df.loc[i, 'Score'] = df.loc[i, 'Score'] + df.loc[i, col][1]\n",
    "            \n",
    "            else:  \n",
    "                df.loc[i, 'Max Score'] = df.loc[i, 'Max Score'] - df.loc[i, col][1]\n",
    "               \n",
    "        i = i + 2\n",
    "    return df\n",
    "\n",
    "#upset counter\n",
    "def upset_counter(df):\n",
    "    upset_count = 0\n",
    "    fav_count = 0\n",
    "    tie_count = 0\n",
    "    dog_spread_tot = 0\n",
    "    big_dog_count = 0\n",
    "    for col in df.loc[:, ~df.columns.isin(['Game', 'Score', 'Max Score'])]:\n",
    "        if df[col][3] < 0 and df[col][1] == df[col][0]: #if home team is favorite and away team won\n",
    "            upset_count = upset_count + 1\n",
    "            dog_spread_tot = dog_spread_tot + -(df[col][3])\n",
    "            print('Road upset alert ', df[col][0], \"spread \", -(df[col][3]))\n",
    "            if abs(df[col][3]) > 6.5:\n",
    "                big_dog_count = big_dog_count + 1\n",
    "                print(\"big dog woof woof\")\n",
    "        elif df[col][3] > 0 and df[col][2][0] == df[col][0]: #if away team is favorite and home team won\n",
    "            upset_count = upset_count + 1\n",
    "            dog_spread_tot = dog_spread_tot + df[col][3]\n",
    "            print('Home dog win ', df[col][2])\n",
    "            if abs(df[col][3]) > 6.5:\n",
    "                big_dog_count = big_dog_count + 1\n",
    "                print(\"big dog woof woof\")\n",
    "        elif df[col][0] == \"TIE\":\n",
    "            tie_count = tie_count + 1\n",
    "            print(\"A friggen tie...  \", df[col][2])\n",
    "        else:\n",
    "            fav_count = fav_count + 1\n",
    "    \n",
    "    dog_spread_avg = round(dog_spread_tot/upset_count, 2)\n",
    "    print(\"Total of \", upset_count, \"upsets this week. With \", big_dog_count, \"being big dogs.\" )\n",
    "    return upset_count, dog_spread_avg, big_dog_count #fav_count, tie_count\n",
    "\n",
    "#number of total picks for league\n",
    "def num_picks(df):\n",
    "    games = len(df.axes[1])-1\n",
    "    enteries = (len(df.axes[0])-4)/2\n",
    "    total_picks = games * enteries\n",
    "    return total_picks\n",
    "\n",
    "#finds avg points per win for league\n",
    "def points_per_win (df):\n",
    "    total_wins = df['Game Count'].sum()\n",
    "    total_points = df['Score'].sum()\n",
    "    avg_pts_per_win = total_points/total_wins\n",
    "    points = round(avg_pts_per_win, 2)\n",
    "    return points\n",
    "\n",
    "#sum total points each week\n",
    "def sum_totals(season_totals, week_stats, week_number_rank):\n",
    "    season_totals[['Score', 'Game Count']] = season_totals[['Score', 'Game Count']] + week_stats[['Score', 'Game Count']]\n",
    "    season_totals[week_number_rank] = season_totals['Score'].rank(ascending=False, method='min')\n",
    "\n",
    "    return season_totals\n"
   ]
  },
  {
   "cell_type": "code",
   "execution_count": 21,
   "metadata": {},
   "outputs": [],
   "source": [
    "week7_raw = pd.read_csv(\"week7_results.csv\")\n",
    "week7 = combine(week7_raw)\n",
    "week7_tot = totals(week7)\n",
    "\n",
    "week7_stats = week7_tot[['Game', 'Score', 'Game Count']][4:]\n",
    "week7_stats.set_index('Game', inplace=True)\n",
    "\n",
    "\n",
    "\n",
    "#number of total picks for league\n",
    "def pick_percent(week_raw, week_game_total):\n",
    "    \n",
    "    games = len(week_raw.axes[1])-(week_raw.iloc[0].isna().sum() + 1)\n",
    "    \n",
    "    enteries = (len(week_raw.axes[0])-4)/2\n",
    "    total_picks = games * enteries\n",
    "    pick_percent = round(week_game_total/total_picks*100, 2)\n",
    "    \n",
    "    return pick_percent, games \n",
    "\n",
    "\n",
    "     \n",
    "\n",
    "\n"
   ]
  },
  {
   "cell_type": "code",
   "execution_count": 17,
   "metadata": {},
   "outputs": [
    {
     "data": {
      "text/plain": [
       "2"
      ]
     },
     "execution_count": 17,
     "metadata": {},
     "output_type": "execute_result"
    }
   ],
   "source": [
    "\n",
    "week7_raw.iloc[0].isna().sum()"
   ]
  },
  {
   "cell_type": "code",
   "execution_count": 22,
   "metadata": {},
   "outputs": [
    {
     "data": {
      "text/plain": [
       "(61.4, 12)"
      ]
     },
     "execution_count": 22,
     "metadata": {},
     "output_type": "execute_result"
    }
   ],
   "source": [
    "num_pick_percent(week7_raw, week7_stats['Game Count'].sum())"
   ]
  }
 ],
 "metadata": {
  "kernelspec": {
   "display_name": "Python 3.9.12 ('base')",
   "language": "python",
   "name": "python3"
  },
  "language_info": {
   "codemirror_mode": {
    "name": "ipython",
    "version": 3
   },
   "file_extension": ".py",
   "mimetype": "text/x-python",
   "name": "python",
   "nbconvert_exporter": "python",
   "pygments_lexer": "ipython3",
   "version": "3.9.12"
  },
  "orig_nbformat": 4,
  "vscode": {
   "interpreter": {
    "hash": "dbdcb66d1c96693250f301222deb253addb7cffe129c2f4d0a4da6ea226330dd"
   }
  }
 },
 "nbformat": 4,
 "nbformat_minor": 2
}
