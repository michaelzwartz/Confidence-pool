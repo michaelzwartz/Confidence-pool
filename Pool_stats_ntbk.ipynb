{
 "cells": [
  {
   "cell_type": "code",
   "execution_count": null,
   "metadata": {},
   "outputs": [],
   "source": [
    "week1_raw = pd.read_csv(\"week1_results.csv\")\n",
    "\n",
    "week1_winners = week1_raw.loc[[0]]\n",
    "week1_picks = week1_raw.copy()\n",
    "week1_picks.drop([0, 1, 2, 3, 5, 7, 9, 11, 13, 15, 17, 19, 21, 23, 25, 27, 29, 31, 33, 35, 37, 39, 41], axis=0, inplace=True)\n",
    "\n",
    "week1_picks.head()\n",
    "\n",
    "df = week1_picks.pivot(index= , columns= , values= )"
   ]
  }
 ],
 "metadata": {
  "language_info": {
   "name": "python"
  },
  "orig_nbformat": 4
 },
 "nbformat": 4,
 "nbformat_minor": 2
}
