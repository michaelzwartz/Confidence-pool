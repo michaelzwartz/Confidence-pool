{
 "cells": [
  {
   "cell_type": "code",
   "execution_count": 39,
   "metadata": {},
   "outputs": [],
   "source": [
    "import pandas as pd\n",
    "import numpy as np\n",
    "import matplotlib.pyplot as plt"
   ]
  },
  {
   "cell_type": "code",
   "execution_count": 40,
   "metadata": {},
   "outputs": [],
   "source": [
    "#function to combine picks and point values\n",
    "def combine(df1):\n",
    "    my_file = df1.copy()\n",
    "    rows = my_file.shape[0]\n",
    "    i = 2 \n",
    "    while i < rows:\n",
    "        for col in my_file.loc[:, my_file.columns != 'Game']:\n",
    "            my_file[col][i+1] = float(my_file[col][i+1])\n",
    "            my_file[col][i] = [my_file[col][i], my_file[col][i+1]]\n",
    "        i = i+2\n",
    "    \n",
    "    my_file.drop([5, 7, 9, 11, 13, 15, 17, 19, 21, 23, 25, 27, 29, 31, 33, 35, 37, 39, 41], axis=0, inplace=True)\n",
    "    return my_file\n",
    "\n",
    "#function to calculate totals\n",
    "def totals(df):\n",
    "    max_score = 0\n",
    "    games = len(df.columns)-1\n",
    "    points = 16\n",
    "    while games > 0:\n",
    "        max_score = max_score + points\n",
    "        points = points - 1\n",
    "        games = games - 1\n",
    "    i = 4  \n",
    "    df['Score'] = 0\n",
    "    df['Game Count'] = 0\n",
    "    df['Max Score'] = max_score\n",
    "    while i < 41:\n",
    "        for col in df.loc[:, ~df.columns.isin(['Game', 'Score', 'Game Count', 'Max Score'])]:\n",
    "            if df[col][0] is np.nan:\n",
    "                break\n",
    "            \n",
    "            elif df[col][0] == df[col][i][0]:\n",
    "                df.loc[i, 'Game Count'] = df.loc[i, 'Game Count'] + 1\n",
    "                df.loc[i, 'Score'] = df.loc[i, 'Score'] + df.loc[i, col][1]\n",
    "            \n",
    "            else:  \n",
    "                df.loc[i, 'Max Score'] = df.loc[i, 'Max Score'] - df.loc[i, col][1]\n",
    "               \n",
    "        i = i + 2\n",
    "    return df\n",
    "\n",
    "#upset counter\n",
    "def upset_counter(df):\n",
    "    upset_count = 0\n",
    "    fav_count = 0\n",
    "    tie_count = 0\n",
    "    dog_spread_tot = 0\n",
    "    for col in df.loc[:, ~df.columns.isin(['Game', 'Score', 'Max Score'])]:\n",
    "        if df[col][3] < 0 and df[col][1] == df[col][0]: #if home team is favorite and away team won\n",
    "            upset_count = upset_count + 1\n",
    "            dog_spread_tot = dog_spread_tot + -(df[col][3])\n",
    "            #print('Road upset alert ', df[col][0], \"spread \", -(df[col][3]))\n",
    "        elif df[col][3] > 0 and df[col][2][0] == df[col][0]: #if away team is favorite and home team won\n",
    "            upset_count = upset_count + 1\n",
    "            dog_spread_tot = dog_spread_tot + df[col][3]\n",
    "            #print('Home dog win ', df[col][2])\n",
    "        elif df[col][0] == \"TIE\":\n",
    "            tie_count = tie_count + 1\n",
    "            #print(\"A friggen tie...  \", df[col][2])\n",
    "        else:\n",
    "            fav_count = fav_count + 1\n",
    "    \n",
    "    dog_spread_avg = dog_spread_tot/upset_count\n",
    "    #print(\"Total of \", upset_count, \"upsets this week\")\n",
    "    return upset_count, dog_spread_avg #fav_count, tie_count\n",
    "\n",
    "def num_picks(df):\n",
    "    games = len(df.axes[1])-1\n",
    "    enteries = (len(df.axes[0])-4)/2\n",
    "    total_picks = games * enteries\n",
    "    return total_picks\n"
   ]
  },
  {
   "cell_type": "code",
   "execution_count": 41,
   "metadata": {},
   "outputs": [],
   "source": [
    "week1_raw = pd.read_csv(\"week1_results.csv\")\n",
    "week2_raw = pd.read_csv(\"Week2_results.csv\")\n",
    "week3_raw = pd.read_csv(\"week3_results.csv\")\n",
    "week4_raw = pd.read_csv(\"week4_results.csv\")\n",
    "week5_raw = pd.read_csv(\"Week5_results.csv\")\n",
    "week6_raw = pd.read_csv(\"week6_results.csv\")\n",
    "\n",
    "week1 = combine(week1_raw)\n",
    "week2 = combine(week2_raw)\n",
    "week3 = combine(week3_raw)\n",
    "week4 = combine(week4_raw)\n",
    "week5 = combine(week5_raw)\n",
    "week6 = combine(week6_raw)\n",
    "\n",
    "week1_tot = totals(week1)\n",
    "week2_tot = totals(week2)\n",
    "week3_tot = totals(week3)\n",
    "week4_tot = totals(week4)\n",
    "week5_tot = totals(week5)\n",
    "week6_tot = totals(week6)\n",
    "\n",
    "\n",
    "week1_stats = week1_tot[['Game', 'Score', 'Game Count']][4:]\n",
    "week2_stats = week2_tot[['Game', 'Score', 'Game Count']][4:]\n",
    "week3_stats = week3_tot[['Game', 'Score', 'Game Count']][4:]\n",
    "week4_stats = week4_tot[['Game', 'Score', 'Game Count']][4:]\n",
    "week5_stats = week5_tot[['Game', 'Score', 'Game Count', 'Max Score']][4:]\n",
    "week6_stats = week6_tot[['Game', 'Score', 'Game Count', 'Max Score']][4:]\n",
    "\n",
    "\n"
   ]
  },
  {
   "cell_type": "code",
   "execution_count": 42,
   "metadata": {},
   "outputs": [
    {
     "data": {
      "text/html": [
       "<div>\n",
       "<style scoped>\n",
       "    .dataframe tbody tr th:only-of-type {\n",
       "        vertical-align: middle;\n",
       "    }\n",
       "\n",
       "    .dataframe tbody tr th {\n",
       "        vertical-align: top;\n",
       "    }\n",
       "\n",
       "    .dataframe thead th {\n",
       "        text-align: right;\n",
       "    }\n",
       "</style>\n",
       "<table border=\"1\" class=\"dataframe\">\n",
       "  <thead>\n",
       "    <tr style=\"text-align: right;\">\n",
       "      <th></th>\n",
       "      <th>Game</th>\n",
       "      <th>Score</th>\n",
       "      <th>Game Count</th>\n",
       "      <th>Max Score</th>\n",
       "      <th>Week 6 Rank</th>\n",
       "    </tr>\n",
       "  </thead>\n",
       "  <tbody>\n",
       "    <tr>\n",
       "      <th>34</th>\n",
       "      <td>Team Boylan</td>\n",
       "      <td>90</td>\n",
       "      <td>10</td>\n",
       "      <td>96</td>\n",
       "      <td>1.0</td>\n",
       "    </tr>\n",
       "    <tr>\n",
       "      <th>32</th>\n",
       "      <td>taz7611</td>\n",
       "      <td>83</td>\n",
       "      <td>8</td>\n",
       "      <td>86</td>\n",
       "      <td>2.0</td>\n",
       "    </tr>\n",
       "    <tr>\n",
       "      <th>14</th>\n",
       "      <td>Ken</td>\n",
       "      <td>79</td>\n",
       "      <td>8</td>\n",
       "      <td>85</td>\n",
       "      <td>3.0</td>\n",
       "    </tr>\n",
       "    <tr>\n",
       "      <th>38</th>\n",
       "      <td>Wild Bill</td>\n",
       "      <td>66</td>\n",
       "      <td>8</td>\n",
       "      <td>79</td>\n",
       "      <td>5.0</td>\n",
       "    </tr>\n",
       "    <tr>\n",
       "      <th>18</th>\n",
       "      <td>Lizzy_Z</td>\n",
       "      <td>61</td>\n",
       "      <td>7</td>\n",
       "      <td>72</td>\n",
       "      <td>6.5</td>\n",
       "    </tr>\n",
       "  </tbody>\n",
       "</table>\n",
       "</div>"
      ],
      "text/plain": [
       "           Game  Score  Game Count  Max Score  Week 6 Rank\n",
       "34  Team Boylan     90          10         96          1.0\n",
       "32      taz7611     83           8         86          2.0\n",
       "14          Ken     79           8         85          3.0\n",
       "38    Wild Bill     66           8         79          5.0\n",
       "18      Lizzy_Z     61           7         72          6.5"
      ]
     },
     "execution_count": 42,
     "metadata": {},
     "output_type": "execute_result"
    }
   ],
   "source": [
    "week6_stats['Week 6 Rank'] = week6_stats['Score'].rank(ascending=False)\n",
    "week6_stats.sort_values(['Max Score'], ascending=False).head()"
   ]
  },
  {
   "cell_type": "code",
   "execution_count": 43,
   "metadata": {},
   "outputs": [],
   "source": [
    "#upset count week 1\n",
    "upset_count1 = upset_counter(week1)\n",
    "upset_count2 = upset_counter(week2)\n",
    "upset_count3 = upset_counter(week3)\n",
    "upset_count4 = upset_counter(week4)\n",
    "upset_count5 = upset_counter(week5)\n",
    "upset_count6 = upset_counter(week6)\n"
   ]
  },
  {
   "cell_type": "code",
   "execution_count": 44,
   "metadata": {},
   "outputs": [
    {
     "data": {
      "text/html": [
       "<div>\n",
       "<style scoped>\n",
       "    .dataframe tbody tr th:only-of-type {\n",
       "        vertical-align: middle;\n",
       "    }\n",
       "\n",
       "    .dataframe tbody tr th {\n",
       "        vertical-align: top;\n",
       "    }\n",
       "\n",
       "    .dataframe thead th {\n",
       "        text-align: right;\n",
       "    }\n",
       "</style>\n",
       "<table border=\"1\" class=\"dataframe\">\n",
       "  <thead>\n",
       "    <tr style=\"text-align: right;\">\n",
       "      <th></th>\n",
       "      <th>Season Points Total</th>\n",
       "      <th>Season Total Game Count</th>\n",
       "    </tr>\n",
       "    <tr>\n",
       "      <th>Game</th>\n",
       "      <th></th>\n",
       "      <th></th>\n",
       "    </tr>\n",
       "  </thead>\n",
       "  <tbody>\n",
       "    <tr>\n",
       "      <th>Bob Z</th>\n",
       "      <td>486</td>\n",
       "      <td>61</td>\n",
       "    </tr>\n",
       "    <tr>\n",
       "      <th>Zapp</th>\n",
       "      <td>462</td>\n",
       "      <td>56</td>\n",
       "    </tr>\n",
       "    <tr>\n",
       "      <th>Kathy Zwartz</th>\n",
       "      <td>453</td>\n",
       "      <td>54</td>\n",
       "    </tr>\n",
       "    <tr>\n",
       "      <th>Ken</th>\n",
       "      <td>484</td>\n",
       "      <td>54</td>\n",
       "    </tr>\n",
       "    <tr>\n",
       "      <th>Lindsey</th>\n",
       "      <td>450</td>\n",
       "      <td>54</td>\n",
       "    </tr>\n",
       "  </tbody>\n",
       "</table>\n",
       "</div>"
      ],
      "text/plain": [
       "              Season Points Total  Season Total Game Count\n",
       "Game                                                      \n",
       "Bob Z                         486                       61\n",
       "Zapp                          462                       56\n",
       "Kathy Zwartz                  453                       54\n",
       "Ken                           484                       54\n",
       "Lindsey                       450                       54"
      ]
     },
     "execution_count": 44,
     "metadata": {},
     "output_type": "execute_result"
    }
   ],
   "source": [
    "#find season totals \n",
    "season_totals = week1_stats[['Score', 'Game Count']] + week2_stats[['Score', 'Game Count']] + week3_stats[['Score', 'Game Count']] + week4_stats[['Score', 'Game Count']] + week5_stats[['Score', 'Game Count']] + week6_stats[['Score', 'Game Count']]\n",
    "season_totals = season_totals.rename(columns={'Score': 'Season Points Total', 'Game Count': 'Season Total Game Count'})\n",
    "\n",
    "season_totals = season_totals.set_index(week1_stats['Game'])\n",
    "season_totals.sort_values(['Season Total Game Count'], ascending=False).head()"
   ]
  },
  {
   "cell_type": "code",
   "execution_count": 45,
   "metadata": {},
   "outputs": [
    {
     "name": "stdout",
     "output_type": "stream",
     "text": [
      "   Week  Total Points  Total Game Count  Pick Percentage  Upset count\n",
      "0   1.0        1170.0             158.0            51.97          6.0\n",
      "1   2.0        1457.0             161.0            52.96          5.0\n",
      "2   3.0        1297.0             152.0            50.00          9.0\n",
      "3   4.0        1536.0             175.0            57.57          5.0\n",
      "4   5.0        1714.0             188.0            61.84          4.0\n",
      "5   6.0        1093.0             124.0            46.62          7.0\n"
     ]
    },
    {
     "data": {
      "text/plain": [
       "Text(0.5, 0, 'Week')"
      ]
     },
     "execution_count": 45,
     "metadata": {},
     "output_type": "execute_result"
    },
    {
     "data": {
      "image/png": "[encoded data removed]",
      "text/plain": [
       "<Figure size 432x288 with 1 Axes>"
      ]
     },
     "metadata": {
      "needs_background": "light"
     },
     "output_type": "display_data"
    }
   ],
   "source": [
    "tots = {'Week': 1, 'Total Points': week1_stats['Score'].sum(), 'Total Game Count': week1_stats['Game Count'].sum(), 'Pick Percentage': round(week1_stats['Game Count'].sum()/num_picks(week1_raw)*100, 2), 'Upset count': upset_count1[0]}\n",
    "weekly_totals = pd.DataFrame(tots, index=[0])\n",
    "weekly_totals.loc[len(weekly_totals.index)] = [2, week2_stats['Score'].sum(), week2_stats['Game Count'].sum(), round(week2_stats['Game Count'].sum()/num_picks(week2_raw)*100, 2), upset_count2[0]] \n",
    "weekly_totals.loc[len(weekly_totals.index)] = [3, week3_stats['Score'].sum(), week3_stats['Game Count'].sum(), round(week3_stats['Game Count'].sum()/num_picks(week3_raw)*100, 2), upset_count3[0]] \n",
    "weekly_totals.loc[len(weekly_totals.index)] = [4, week4_stats['Score'].sum(), week4_stats['Game Count'].sum(), round(week4_stats['Game Count'].sum()/num_picks(week4_raw)*100, 2), upset_count4[0]] \n",
    "weekly_totals.loc[len(weekly_totals.index)] = [5, week5_stats['Score'].sum(), week5_stats['Game Count'].sum(), round(week5_stats['Game Count'].sum()/num_picks(week5_raw)*100, 2), upset_count5[0]] \n",
    "weekly_totals.loc[len(weekly_totals.index)] = [6, week6_stats['Score'].sum(), week6_stats['Game Count'].sum(), round(week6_stats['Game Count'].sum()/num_picks(week6_raw)*100, 2), upset_count6[0]] \n",
    "print(weekly_totals)\n",
    "\n",
    "plt.plot(weekly_totals['Week'], weekly_totals['Pick Percentage'])\n",
    "plt.title('Percent of Games Picked Correct')\n",
    "plt.ylabel('Percent Correct (%)')\n",
    "#plt.ylim([25, 75])\n",
    "plt.xlabel(\"Week\")"
   ]
  },
  {
   "cell_type": "code",
   "execution_count": null,
   "metadata": {},
   "outputs": [],
   "source": []
  }
 ],
 "metadata": {
  "kernelspec": {
   "display_name": "Python 3.9.12 ('base')",
   "language": "python",
   "name": "python3"
  },
  "language_info": {
   "codemirror_mode": {
    "name": "ipython",
    "version": 3
   },
   "file_extension": ".py",
   "mimetype": "text/x-python",
   "name": "python",
   "nbconvert_exporter": "python",
   "pygments_lexer": "ipython3",
   "version": "3.9.12"
  },
  "orig_nbformat": 4,
  "vscode": {
   "interpreter": {
    "hash": "dbdcb66d1c96693250f301222deb253addb7cffe129c2f4d0a4da6ea226330dd"
   }
  }
 },
 "nbformat": 4,
 "nbformat_minor": 2
}
