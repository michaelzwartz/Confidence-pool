{
 "cells": [
  {
   "cell_type": "code",
   "execution_count": 78,
   "metadata": {},
   "outputs": [],
   "source": [
    "import pandas as pd\n",
    "import numpy as np\n",
    "week1_raw = pd.read_csv(\"week1_results.csv\")\n",
    "#week2_raw = pd.read_csv(\"week2_results.csv)\n",
    "#week1_raw.head()\n"
   ]
  },
  {
   "cell_type": "code",
   "execution_count": 79,
   "metadata": {},
   "outputs": [],
   "source": [
    "#function to combine picks and point values\n",
    "def combine(df1):\n",
    "    my_file = df1\n",
    "    rows = my_file.shape[0]\n",
    "    i = 2 \n",
    "    while i < rows:\n",
    "        for col in my_file.loc[:, my_file.columns != 'Name']:\n",
    "            my_file[col][i+1] = float(my_file[col][i+1])\n",
    "            my_file[col][i] = [my_file[col][i], my_file[col][i+1]]\n",
    "        i = i+2\n",
    "    return my_file\n",
    "\n",
    "week1 = combine(week1_raw)"
   ]
  },
  {
   "cell_type": "code",
   "execution_count": 80,
   "metadata": {},
   "outputs": [
    {
     "data": {
      "text/html": [
       "<div>\n",
       "<style scoped>\n",
       "    .dataframe tbody tr th:only-of-type {\n",
       "        vertical-align: middle;\n",
       "    }\n",
       "\n",
       "    .dataframe tbody tr th {\n",
       "        vertical-align: top;\n",
       "    }\n",
       "\n",
       "    .dataframe thead th {\n",
       "        text-align: right;\n",
       "    }\n",
       "</style>\n",
       "<table border=\"1\" class=\"dataframe\">\n",
       "  <thead>\n",
       "    <tr style=\"text-align: right;\">\n",
       "      <th></th>\n",
       "      <th>Name</th>\n",
       "      <th>Game 1</th>\n",
       "      <th>Game 2</th>\n",
       "      <th>Game 3</th>\n",
       "      <th>Game 4</th>\n",
       "      <th>Game 5</th>\n",
       "      <th>Game 6</th>\n",
       "      <th>Game 7</th>\n",
       "      <th>Game 8</th>\n",
       "      <th>Game 9</th>\n",
       "      <th>Game 10</th>\n",
       "      <th>Game 11</th>\n",
       "      <th>Game 12</th>\n",
       "      <th>Game 13</th>\n",
       "      <th>Game 14</th>\n",
       "      <th>Game 15</th>\n",
       "      <th>Game 16</th>\n",
       "    </tr>\n",
       "  </thead>\n",
       "  <tbody>\n",
       "    <tr>\n",
       "      <th>32</th>\n",
       "      <td>taz7611</td>\n",
       "      <td>[LAR, 3.0]</td>\n",
       "      <td>[ATL, 2.0]</td>\n",
       "      <td>[BAL, 15.0]</td>\n",
       "      <td>[CIN, 16.0]</td>\n",
       "      <td>[MIA, 6.0]</td>\n",
       "      <td>[WAS, 13.0]</td>\n",
       "      <td>[CHI, 1.0]</td>\n",
       "      <td>[CAR, 11.0]</td>\n",
       "      <td>[IND, 12.0]</td>\n",
       "      <td>[PHI, 8.0]</td>\n",
       "      <td>[LAC, 7.0]</td>\n",
       "      <td>[GB, 10.0]</td>\n",
       "      <td>[TEN, 14.0]</td>\n",
       "      <td>[KC, 4.0]</td>\n",
       "      <td>[TB, 5.0]</td>\n",
       "      <td>[DEN, 9.0]</td>\n",
       "    </tr>\n",
       "    <tr>\n",
       "      <th>34</th>\n",
       "      <td>Team-Boylan</td>\n",
       "      <td>[BUF, 1.0]</td>\n",
       "      <td>[NO, 13.0]</td>\n",
       "      <td>[BAL, 15.0]</td>\n",
       "      <td>[CIN, 7.0]</td>\n",
       "      <td>[MIA, 4.0]</td>\n",
       "      <td>[JAX, 5.0]</td>\n",
       "      <td>[SF, 10.0]</td>\n",
       "      <td>[CAR, 9.0]</td>\n",
       "      <td>[IND, 12.0]</td>\n",
       "      <td>[PHI, 14.0]</td>\n",
       "      <td>[LAC, 3.0]</td>\n",
       "      <td>[MIN, 2.0]</td>\n",
       "      <td>[TEN, 11.0]</td>\n",
       "      <td>[KC, 8.0]</td>\n",
       "      <td>[TB, 6.0]</td>\n",
       "      <td>[DEN, 16.0]</td>\n",
       "    </tr>\n",
       "    <tr>\n",
       "      <th>36</th>\n",
       "      <td>UrBoiJZ</td>\n",
       "      <td>[BUF, 8.0]</td>\n",
       "      <td>[ATL, 10.0]</td>\n",
       "      <td>[BAL, 15.0]</td>\n",
       "      <td>[CIN, 16.0]</td>\n",
       "      <td>[MIA, 14.0]</td>\n",
       "      <td>[JAX, 6.0]</td>\n",
       "      <td>[CHI, 7.0]</td>\n",
       "      <td>[CAR, 1.0]</td>\n",
       "      <td>[HOU, 13.0]</td>\n",
       "      <td>[PHI, 2.0]</td>\n",
       "      <td>[LV, 12.0]</td>\n",
       "      <td>[GB, 11.0]</td>\n",
       "      <td>[TEN, 5.0]</td>\n",
       "      <td>[KC, 9.0]</td>\n",
       "      <td>[TB, 4.0]</td>\n",
       "      <td>[SEA, 3.0]</td>\n",
       "    </tr>\n",
       "    <tr>\n",
       "      <th>38</th>\n",
       "      <td>Wild-Bill</td>\n",
       "      <td>[BUF, 16.0]</td>\n",
       "      <td>[NO, 9.0]</td>\n",
       "      <td>[BAL, 14.0]</td>\n",
       "      <td>[CIN, 2.0]</td>\n",
       "      <td>[MIA, 10.0]</td>\n",
       "      <td>[WAS, 4.0]</td>\n",
       "      <td>[CHI, 3.0]</td>\n",
       "      <td>[CAR, 7.0]</td>\n",
       "      <td>[IND, 15.0]</td>\n",
       "      <td>[PHI, 12.0]</td>\n",
       "      <td>[LAC, 5.0]</td>\n",
       "      <td>[MIN, 1.0]</td>\n",
       "      <td>[TEN, 13.0]</td>\n",
       "      <td>[KC, 11.0]</td>\n",
       "      <td>[DAL, 6.0]</td>\n",
       "      <td>[DEN, 8.0]</td>\n",
       "    </tr>\n",
       "    <tr>\n",
       "      <th>40</th>\n",
       "      <td>Zapp</td>\n",
       "      <td>[BUF, 1.0]</td>\n",
       "      <td>[NO, 13.0]</td>\n",
       "      <td>[BAL, 14.0]</td>\n",
       "      <td>[CIN, 8.0]</td>\n",
       "      <td>[MIA, 4.0]</td>\n",
       "      <td>[WAS, 5.0]</td>\n",
       "      <td>[SF, 10.0]</td>\n",
       "      <td>[CAR, 6.0]</td>\n",
       "      <td>[IND, 15.0]</td>\n",
       "      <td>[PHI, 16.0]</td>\n",
       "      <td>[LAC, 2.0]</td>\n",
       "      <td>[GB, 7.0]</td>\n",
       "      <td>[TEN, 12.0]</td>\n",
       "      <td>[KC, 9.0]</td>\n",
       "      <td>[TB, 3.0]</td>\n",
       "      <td>[DEN, 11.0]</td>\n",
       "    </tr>\n",
       "  </tbody>\n",
       "</table>\n",
       "</div>"
      ],
      "text/plain": [
       "           Name       Game 1       Game 2       Game 3       Game 4  \\\n",
       "32      taz7611   [LAR, 3.0]   [ATL, 2.0]  [BAL, 15.0]  [CIN, 16.0]   \n",
       "34  Team-Boylan   [BUF, 1.0]   [NO, 13.0]  [BAL, 15.0]   [CIN, 7.0]   \n",
       "36      UrBoiJZ   [BUF, 8.0]  [ATL, 10.0]  [BAL, 15.0]  [CIN, 16.0]   \n",
       "38    Wild-Bill  [BUF, 16.0]    [NO, 9.0]  [BAL, 14.0]   [CIN, 2.0]   \n",
       "40         Zapp   [BUF, 1.0]   [NO, 13.0]  [BAL, 14.0]   [CIN, 8.0]   \n",
       "\n",
       "         Game 5       Game 6      Game 7       Game 8       Game 9  \\\n",
       "32   [MIA, 6.0]  [WAS, 13.0]  [CHI, 1.0]  [CAR, 11.0]  [IND, 12.0]   \n",
       "34   [MIA, 4.0]   [JAX, 5.0]  [SF, 10.0]   [CAR, 9.0]  [IND, 12.0]   \n",
       "36  [MIA, 14.0]   [JAX, 6.0]  [CHI, 7.0]   [CAR, 1.0]  [HOU, 13.0]   \n",
       "38  [MIA, 10.0]   [WAS, 4.0]  [CHI, 3.0]   [CAR, 7.0]  [IND, 15.0]   \n",
       "40   [MIA, 4.0]   [WAS, 5.0]  [SF, 10.0]   [CAR, 6.0]  [IND, 15.0]   \n",
       "\n",
       "        Game 10     Game 11     Game 12      Game 13     Game 14     Game 15  \\\n",
       "32   [PHI, 8.0]  [LAC, 7.0]  [GB, 10.0]  [TEN, 14.0]   [KC, 4.0]   [TB, 5.0]   \n",
       "34  [PHI, 14.0]  [LAC, 3.0]  [MIN, 2.0]  [TEN, 11.0]   [KC, 8.0]   [TB, 6.0]   \n",
       "36   [PHI, 2.0]  [LV, 12.0]  [GB, 11.0]   [TEN, 5.0]   [KC, 9.0]   [TB, 4.0]   \n",
       "38  [PHI, 12.0]  [LAC, 5.0]  [MIN, 1.0]  [TEN, 13.0]  [KC, 11.0]  [DAL, 6.0]   \n",
       "40  [PHI, 16.0]  [LAC, 2.0]   [GB, 7.0]  [TEN, 12.0]   [KC, 9.0]   [TB, 3.0]   \n",
       "\n",
       "        Game 16  \n",
       "32   [DEN, 9.0]  \n",
       "34  [DEN, 16.0]  \n",
       "36   [SEA, 3.0]  \n",
       "38   [DEN, 8.0]  \n",
       "40  [DEN, 11.0]  "
      ]
     },
     "execution_count": 80,
     "metadata": {},
     "output_type": "execute_result"
    }
   ],
   "source": [
    "#drop unneeded rows\n",
    "week1.drop([5, 7, 9, 11, 13, 15, 17, 19, 21, 23, 25, 27, 29, 31, 33, 35, 37, 39, 41, 42, 43], axis=0, inplace=True)\n",
    "week1.tail()\n",
    "\n",
    "#i = 3\n",
    "#rows = week1.shape[1]\n",
    "#while i < 6:\n",
    "#    print(week1.iloc[])\n",
    "#    i = i + 2"
   ]
  },
  {
   "cell_type": "code",
   "execution_count": null,
   "metadata": {},
   "outputs": [],
   "source": [
    "#add spread for home team\n",
    "#for col in week1.columns:\n",
    "#    week1[col][1] = [week1[col][1], -week1[col][2][1]]\n"
   ]
  },
  {
   "cell_type": "code",
   "execution_count": 81,
   "metadata": {},
   "outputs": [],
   "source": [
    "#function to calculate total points\n",
    "def totals(df):\n",
    "    i = 4\n",
    "    df['Score'] = 0\n",
    "    while i < 42:\n",
    "    #print(i)\n",
    "        for col in df.loc[:, ~df.columns.isin(['Name', 'Score'])]:\n",
    "            if df[col][0] == df[col][i][0]:\n",
    "                df['Score'][i] = df['Score'][i] + df[col][i][1]\n",
    "                #print(week1['Name'][i], ' the ', col, 'was a good game')\n",
    "            #else:\n",
    "                #print(week1['Name'][i], \"haha, you suck\")\n",
    "        i = i + 2\n",
    "    return df "
   ]
  },
  {
   "cell_type": "code",
   "execution_count": 82,
   "metadata": {},
   "outputs": [
    {
     "name": "stderr",
     "output_type": "stream",
     "text": [
      "C:\\Users\\mtzwa\\AppData\\Local\\Temp\\ipykernel_4676\\4093087112.py:9: SettingWithCopyWarning: \n",
      "A value is trying to be set on a copy of a slice from a DataFrame\n",
      "\n",
      "See the caveats in the documentation: https://pandas.pydata.org/pandas-docs/stable/user_guide/indexing.html#returning-a-view-versus-a-copy\n",
      "  df['Score'][i] = df['Score'][i] + df[col][i][1]\n"
     ]
    }
   ],
   "source": [
    "#week1.sort_values(week1['Score'])\n",
    "#week1[['Name', 'Score']]\n",
    "week1 = totals(week1)"
   ]
  },
  {
   "cell_type": "code",
   "execution_count": null,
   "metadata": {},
   "outputs": [],
   "source": [
    "week1['Score']"
   ]
  },
  {
   "cell_type": "code",
   "execution_count": 73,
   "metadata": {},
   "outputs": [],
   "source": [
    "#upset count\n",
    "\n",
    "def upset_counter(df):\n",
    "    upset_count = 0\n",
    "    fav_count = 0\n",
    "    tie_count = 0\n",
    "    for col in week1.loc[:, ~week1.columns.isin(['Name', 'Score'])]:\n",
    "        if week1[col][3] < 0 and week1[col][1] == week1[col][0]: #if away team is favorite and home team won\n",
    "            upset_count = upset_count + 1\n",
    "            #print('Home dog pulling it off: ', week1[col][1])\n",
    "        elif week1[col][3] > 0 and week1[col][2][0] == week1[col][0]: #if home team is favorite and away team won\n",
    "            upset_count = upset_count + 1\n",
    "            #print('Road upset alert: ', week1[col][2][0])\n",
    "        elif week1[col][0] == \"TIE\":\n",
    "            tie_count = tie_count + 1\n",
    "            #print(\"A friggen tie...  \", week1[col][2])\n",
    "        else:\n",
    "            fav_count = fav_count + 1\n",
    "    \n",
    "    return upset_count, fav_count, tie_count"
   ]
  },
  {
   "cell_type": "code",
   "execution_count": 76,
   "metadata": {},
   "outputs": [
    {
     "name": "stdout",
     "output_type": "stream",
     "text": [
      "There were  6  upsets in week 1.\n"
     ]
    }
   ],
   "source": [
    "upset_count = upset_counter(week1)[0]\n",
    "fav_count = upset_counter(week1)[1]\n",
    "tie_count = upset_counter(week1)[2]\n",
    "\n",
    "print(\"There were \", upset_count, \" upsets in week 1.\")\n",
    "\n"
   ]
  },
  {
   "cell_type": "code",
   "execution_count": 38,
   "metadata": {},
   "outputs": [],
   "source": [
    "#upset_score = 0\n",
    "#for col in week1.columns:\n",
    "    #if week1[col][1][1] == week1[0]:\n",
    "    #    upset_score = upset_score + week1[col][1][1]\n",
    "    #else if week1[0] == week1[col][1][1]\n"
   ]
  }
 ],
 "metadata": {
  "kernelspec": {
   "display_name": "Python 3.9.12 ('base')",
   "language": "python",
   "name": "python3"
  },
  "language_info": {
   "codemirror_mode": {
    "name": "ipython",
    "version": 3
   },
   "file_extension": ".py",
   "mimetype": "text/x-python",
   "name": "python",
   "nbconvert_exporter": "python",
   "pygments_lexer": "ipython3",
   "version": "3.9.12"
  },
  "orig_nbformat": 4,
  "vscode": {
   "interpreter": {
    "hash": "dbdcb66d1c96693250f301222deb253addb7cffe129c2f4d0a4da6ea226330dd"
   }
  }
 },
 "nbformat": 4,
 "nbformat_minor": 2
}
