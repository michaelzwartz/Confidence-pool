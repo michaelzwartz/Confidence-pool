{
 "cells": [
  {
   "cell_type": "code",
   "execution_count": 124,
   "metadata": {},
   "outputs": [],
   "source": [
    "import pandas as pd\n",
    "import numpy as np"
   ]
  },
  {
   "cell_type": "code",
   "execution_count": 125,
   "metadata": {},
   "outputs": [],
   "source": [
    "#function to combine picks and point values\n",
    "def combine(df1):\n",
    "    my_file = df1\n",
    "    rows = my_file.shape[0]\n",
    "    i = 2 \n",
    "    while i < rows:\n",
    "        for col in my_file.loc[:, my_file.columns != 'Game']:\n",
    "            my_file[col][i+1] = float(my_file[col][i+1])\n",
    "            my_file[col][i] = [my_file[col][i], my_file[col][i+1]]\n",
    "        i = i+2\n",
    "    \n",
    "    df1.drop([5, 7, 9, 11, 13, 15, 17, 19, 21, 23, 25, 27, 29, 31, 33, 35, 37, 39, 41], axis=0, inplace=True)\n",
    "    return my_file\n",
    "\n",
    "#function to calculate totals\n",
    "def totals(df):\n",
    "    i = 4\n",
    "    df['Score'] = 0\n",
    "    df['Game Count'] = 0\n",
    "    df['Max Score'] = 136\n",
    "    while i < 41:\n",
    "        for col in df.loc[:, ~df.columns.isin(['Game', 'Score', 'Game Count', 'Max Score'])]:\n",
    "            if df[col][0] is np.nan:\n",
    "                break\n",
    "            \n",
    "            elif df[col][0] == df[col][i][0]:\n",
    "                df.loc[i, 'Game Count'] = df.loc[i, 'Game Count'] + 1\n",
    "                df.loc[i, 'Score'] = df.loc[i, 'Score'] + df.loc[i, col][1]\n",
    "            \n",
    "            else:  \n",
    "                df.loc[i, 'Max Score'] = df.loc[i, 'Max Score'] - df.loc[i, col][1]\n",
    "               \n",
    "        i = i + 2\n",
    "    return df\n",
    "\n",
    "#upset counter\n",
    "def upset_counter(df):\n",
    "    upset_count = 0\n",
    "    fav_count = 0\n",
    "    tie_count = 0\n",
    "    for col in df.loc[:, ~df.columns.isin(['Game', 'Score'])]:\n",
    "        if df[col][3] < 0 and df[col][1] == df[col][0]: #if home team is favorite and away team won\n",
    "            upset_count = upset_count + 1\n",
    "            print('Road upset alert ', df[col][0], \"spread \", -(df[col][3]))\n",
    "        elif df[col][3] > 0 and df[col][2][0] == df[col][0]: #if away team is favorite and home team won\n",
    "            upset_count = upset_count + 1\n",
    "            print('Home dog win ', df[col][2])\n",
    "        elif df[col][0] == \"TIE\":\n",
    "            tie_count = tie_count + 1\n",
    "            print(\"A friggen tie...  \", df[col][2])\n",
    "        else:\n",
    "            fav_count = fav_count + 1\n",
    "    print(\"Total of \", upset_count, \"this week.\")\n",
    "    return upset_count, fav_count, tie_count\n"
   ]
  },
  {
   "cell_type": "code",
   "execution_count": 126,
   "metadata": {},
   "outputs": [],
   "source": [
    "week1_raw = pd.read_csv(\"week1_results.csv\")\n",
    "week2_raw = pd.read_csv(\"Week2_results.csv\")\n",
    "week3_raw = pd.read_csv(\"week3_results.csv\")\n",
    "week4_raw = pd.read_csv(\"week4_results.csv\")\n",
    "week5_raw = pd.read_csv(\"Week5_results.csv\")\n",
    "\n",
    "week1 = combine(week1_raw)\n",
    "week2 = combine(week2_raw)\n",
    "week3 = combine(week3_raw)\n",
    "week4 = combine(week4_raw)\n",
    "week5 = combine(week5_raw)\n",
    "\n",
    "week1_tot = totals(week1)\n",
    "week2_tot = totals(week2)\n",
    "week3_tot = totals(week3)\n",
    "week4_tot = totals(week4)\n",
    "week5_tot = totals(week5)\n",
    "\n",
    "\n",
    "week1_stats = week1_tot[['Game', 'Score', 'Game Count']][4:]\n",
    "week2_stats = week2_tot[['Game', 'Score', 'Game Count']][4:]\n",
    "week3_stats = week3_tot[['Game', 'Score', 'Game Count']][4:]\n",
    "week4_stats = week4_tot[['Game', 'Score', 'Game Count']][4:]\n",
    "week5_stats = week5_tot[['Game', 'Score', 'Game Count', 'Max Score']][4:]"
   ]
  },
  {
   "cell_type": "code",
   "execution_count": 127,
   "metadata": {},
   "outputs": [
    {
     "data": {
      "text/html": [
       "<div>\n",
       "<style scoped>\n",
       "    .dataframe tbody tr th:only-of-type {\n",
       "        vertical-align: middle;\n",
       "    }\n",
       "\n",
       "    .dataframe tbody tr th {\n",
       "        vertical-align: top;\n",
       "    }\n",
       "\n",
       "    .dataframe thead th {\n",
       "        text-align: right;\n",
       "    }\n",
       "</style>\n",
       "<table border=\"1\" class=\"dataframe\">\n",
       "  <thead>\n",
       "    <tr style=\"text-align: right;\">\n",
       "      <th></th>\n",
       "      <th>Game</th>\n",
       "      <th>Score</th>\n",
       "      <th>Game Count</th>\n",
       "      <th>Max Score</th>\n",
       "      <th>Week Rank</th>\n",
       "    </tr>\n",
       "  </thead>\n",
       "  <tbody>\n",
       "    <tr>\n",
       "      <th>14</th>\n",
       "      <td>Ken</td>\n",
       "      <td>61</td>\n",
       "      <td>8</td>\n",
       "      <td>117</td>\n",
       "      <td>4.0</td>\n",
       "    </tr>\n",
       "    <tr>\n",
       "      <th>40</th>\n",
       "      <td>Zapp</td>\n",
       "      <td>78</td>\n",
       "      <td>9</td>\n",
       "      <td>113</td>\n",
       "      <td>1.0</td>\n",
       "    </tr>\n",
       "    <tr>\n",
       "      <th>36</th>\n",
       "      <td>UrBoiJZ</td>\n",
       "      <td>77</td>\n",
       "      <td>8</td>\n",
       "      <td>112</td>\n",
       "      <td>2.0</td>\n",
       "    </tr>\n",
       "    <tr>\n",
       "      <th>6</th>\n",
       "      <td>Bob Z</td>\n",
       "      <td>58</td>\n",
       "      <td>8</td>\n",
       "      <td>105</td>\n",
       "      <td>7.0</td>\n",
       "    </tr>\n",
       "    <tr>\n",
       "      <th>22</th>\n",
       "      <td>MattWojtanek</td>\n",
       "      <td>60</td>\n",
       "      <td>6</td>\n",
       "      <td>98</td>\n",
       "      <td>5.0</td>\n",
       "    </tr>\n",
       "  </tbody>\n",
       "</table>\n",
       "</div>"
      ],
      "text/plain": [
       "            Game  Score  Game Count  Max Score  Week Rank\n",
       "14           Ken     61           8        117        4.0\n",
       "40          Zapp     78           9        113        1.0\n",
       "36       UrBoiJZ     77           8        112        2.0\n",
       "6          Bob Z     58           8        105        7.0\n",
       "22  MattWojtanek     60           6         98        5.0"
      ]
     },
     "execution_count": 127,
     "metadata": {},
     "output_type": "execute_result"
    }
   ],
   "source": [
    "week5_stats['Week Rank'] = week5_stats['Score'].rank(ascending=False)\n",
    "week5_stats.sort_values(['Max Score'], ascending=False).head()"
   ]
  },
  {
   "cell_type": "code",
   "execution_count": 5,
   "metadata": {},
   "outputs": [
    {
     "data": {
      "text/html": [
       "<div>\n",
       "<style scoped>\n",
       "    .dataframe tbody tr th:only-of-type {\n",
       "        vertical-align: middle;\n",
       "    }\n",
       "\n",
       "    .dataframe tbody tr th {\n",
       "        vertical-align: top;\n",
       "    }\n",
       "\n",
       "    .dataframe thead th {\n",
       "        text-align: right;\n",
       "    }\n",
       "</style>\n",
       "<table border=\"1\" class=\"dataframe\">\n",
       "  <thead>\n",
       "    <tr style=\"text-align: right;\">\n",
       "      <th></th>\n",
       "      <th>Game</th>\n",
       "      <th>Score</th>\n",
       "      <th>Game Count</th>\n",
       "    </tr>\n",
       "  </thead>\n",
       "  <tbody>\n",
       "    <tr>\n",
       "      <th>12</th>\n",
       "      <td>Kathy Zwartz</td>\n",
       "      <td>97</td>\n",
       "      <td>13</td>\n",
       "    </tr>\n",
       "    <tr>\n",
       "      <th>38</th>\n",
       "      <td>Wild Bill</td>\n",
       "      <td>85</td>\n",
       "      <td>10</td>\n",
       "    </tr>\n",
       "    <tr>\n",
       "      <th>6</th>\n",
       "      <td>Bob Z</td>\n",
       "      <td>72</td>\n",
       "      <td>11</td>\n",
       "    </tr>\n",
       "    <tr>\n",
       "      <th>30</th>\n",
       "      <td>TAZ</td>\n",
       "      <td>71</td>\n",
       "      <td>8</td>\n",
       "    </tr>\n",
       "    <tr>\n",
       "      <th>40</th>\n",
       "      <td>Zapp</td>\n",
       "      <td>67</td>\n",
       "      <td>9</td>\n",
       "    </tr>\n",
       "  </tbody>\n",
       "</table>\n",
       "</div>"
      ],
      "text/plain": [
       "            Game  Score  Game Count\n",
       "12  Kathy Zwartz     97          13\n",
       "38     Wild Bill     85          10\n",
       "6          Bob Z     72          11\n",
       "30           TAZ     71           8\n",
       "40          Zapp     67           9"
      ]
     },
     "execution_count": 5,
     "metadata": {},
     "output_type": "execute_result"
    }
   ],
   "source": [
    "week1_stats.sort_values(['Score'], ascending=False).head()\n"
   ]
  },
  {
   "cell_type": "code",
   "execution_count": 6,
   "metadata": {},
   "outputs": [
    {
     "data": {
      "text/html": [
       "<div>\n",
       "<style scoped>\n",
       "    .dataframe tbody tr th:only-of-type {\n",
       "        vertical-align: middle;\n",
       "    }\n",
       "\n",
       "    .dataframe tbody tr th {\n",
       "        vertical-align: top;\n",
       "    }\n",
       "\n",
       "    .dataframe thead th {\n",
       "        text-align: right;\n",
       "    }\n",
       "</style>\n",
       "<table border=\"1\" class=\"dataframe\">\n",
       "  <thead>\n",
       "    <tr style=\"text-align: right;\">\n",
       "      <th></th>\n",
       "      <th>Game</th>\n",
       "      <th>Score</th>\n",
       "      <th>Game Count</th>\n",
       "    </tr>\n",
       "  </thead>\n",
       "  <tbody>\n",
       "    <tr>\n",
       "      <th>8</th>\n",
       "      <td>Ellieisawesome1</td>\n",
       "      <td>114</td>\n",
       "      <td>14</td>\n",
       "    </tr>\n",
       "    <tr>\n",
       "      <th>26</th>\n",
       "      <td>PBW</td>\n",
       "      <td>92</td>\n",
       "      <td>10</td>\n",
       "    </tr>\n",
       "    <tr>\n",
       "      <th>6</th>\n",
       "      <td>Bob Z</td>\n",
       "      <td>86</td>\n",
       "      <td>10</td>\n",
       "    </tr>\n",
       "    <tr>\n",
       "      <th>40</th>\n",
       "      <td>Zapp</td>\n",
       "      <td>84</td>\n",
       "      <td>10</td>\n",
       "    </tr>\n",
       "    <tr>\n",
       "      <th>24</th>\n",
       "      <td>Michael Zwartz</td>\n",
       "      <td>84</td>\n",
       "      <td>9</td>\n",
       "    </tr>\n",
       "  </tbody>\n",
       "</table>\n",
       "</div>"
      ],
      "text/plain": [
       "               Game  Score  Game Count\n",
       "8   Ellieisawesome1    114          14\n",
       "26              PBW     92          10\n",
       "6             Bob Z     86          10\n",
       "40             Zapp     84          10\n",
       "24   Michael Zwartz     84           9"
      ]
     },
     "execution_count": 6,
     "metadata": {},
     "output_type": "execute_result"
    }
   ],
   "source": [
    "week2_stats.sort_values(['Score'], ascending=False).head()\n"
   ]
  },
  {
   "cell_type": "code",
   "execution_count": 7,
   "metadata": {},
   "outputs": [
    {
     "data": {
      "text/html": [
       "<div>\n",
       "<style scoped>\n",
       "    .dataframe tbody tr th:only-of-type {\n",
       "        vertical-align: middle;\n",
       "    }\n",
       "\n",
       "    .dataframe tbody tr th {\n",
       "        vertical-align: top;\n",
       "    }\n",
       "\n",
       "    .dataframe thead th {\n",
       "        text-align: right;\n",
       "    }\n",
       "</style>\n",
       "<table border=\"1\" class=\"dataframe\">\n",
       "  <thead>\n",
       "    <tr style=\"text-align: right;\">\n",
       "      <th></th>\n",
       "      <th>Game</th>\n",
       "      <th>Score</th>\n",
       "      <th>Game Count</th>\n",
       "    </tr>\n",
       "  </thead>\n",
       "  <tbody>\n",
       "    <tr>\n",
       "      <th>18</th>\n",
       "      <td>Lizzy_Z</td>\n",
       "      <td>107</td>\n",
       "      <td>14</td>\n",
       "    </tr>\n",
       "    <tr>\n",
       "      <th>16</th>\n",
       "      <td>Lindsey</td>\n",
       "      <td>96</td>\n",
       "      <td>12</td>\n",
       "    </tr>\n",
       "    <tr>\n",
       "      <th>4</th>\n",
       "      <td>abfarias</td>\n",
       "      <td>84</td>\n",
       "      <td>8</td>\n",
       "    </tr>\n",
       "    <tr>\n",
       "      <th>30</th>\n",
       "      <td>TAZ</td>\n",
       "      <td>75</td>\n",
       "      <td>7</td>\n",
       "    </tr>\n",
       "    <tr>\n",
       "      <th>20</th>\n",
       "      <td>Matt McKenna</td>\n",
       "      <td>74</td>\n",
       "      <td>7</td>\n",
       "    </tr>\n",
       "  </tbody>\n",
       "</table>\n",
       "</div>"
      ],
      "text/plain": [
       "            Game  Score  Game Count\n",
       "18       Lizzy_Z    107          14\n",
       "16       Lindsey     96          12\n",
       "4       abfarias     84           8\n",
       "30           TAZ     75           7\n",
       "20  Matt McKenna     74           7"
      ]
     },
     "execution_count": 7,
     "metadata": {},
     "output_type": "execute_result"
    }
   ],
   "source": [
    "week3_stats.sort_values(['Score'], ascending=False).head()\n"
   ]
  },
  {
   "cell_type": "code",
   "execution_count": 10,
   "metadata": {},
   "outputs": [
    {
     "data": {
      "text/html": [
       "<div>\n",
       "<style scoped>\n",
       "    .dataframe tbody tr th:only-of-type {\n",
       "        vertical-align: middle;\n",
       "    }\n",
       "\n",
       "    .dataframe tbody tr th {\n",
       "        vertical-align: top;\n",
       "    }\n",
       "\n",
       "    .dataframe thead th {\n",
       "        text-align: right;\n",
       "    }\n",
       "</style>\n",
       "<table border=\"1\" class=\"dataframe\">\n",
       "  <thead>\n",
       "    <tr style=\"text-align: right;\">\n",
       "      <th></th>\n",
       "      <th>Game</th>\n",
       "      <th>Score</th>\n",
       "      <th>Game Count</th>\n",
       "    </tr>\n",
       "  </thead>\n",
       "  <tbody>\n",
       "    <tr>\n",
       "      <th>24</th>\n",
       "      <td>Michael Zwartz</td>\n",
       "      <td>108</td>\n",
       "      <td>12</td>\n",
       "    </tr>\n",
       "    <tr>\n",
       "      <th>10</th>\n",
       "      <td>JJapcon</td>\n",
       "      <td>102</td>\n",
       "      <td>10</td>\n",
       "    </tr>\n",
       "    <tr>\n",
       "      <th>28</th>\n",
       "      <td>Shaner</td>\n",
       "      <td>96</td>\n",
       "      <td>11</td>\n",
       "    </tr>\n",
       "    <tr>\n",
       "      <th>20</th>\n",
       "      <td>Matt McKenna</td>\n",
       "      <td>92</td>\n",
       "      <td>10</td>\n",
       "    </tr>\n",
       "    <tr>\n",
       "      <th>22</th>\n",
       "      <td>MattWojtanek</td>\n",
       "      <td>92</td>\n",
       "      <td>11</td>\n",
       "    </tr>\n",
       "  </tbody>\n",
       "</table>\n",
       "</div>"
      ],
      "text/plain": [
       "              Game  Score  Game Count\n",
       "24  Michael Zwartz    108          12\n",
       "10         JJapcon    102          10\n",
       "28          Shaner     96          11\n",
       "20    Matt McKenna     92          10\n",
       "22    MattWojtanek     92          11"
      ]
     },
     "execution_count": 10,
     "metadata": {},
     "output_type": "execute_result"
    }
   ],
   "source": [
    "week4_stats.sort_values(['Score'], ascending=False).head()\n"
   ]
  },
  {
   "cell_type": "code",
   "execution_count": 8,
   "metadata": {},
   "outputs": [
    {
     "name": "stdout",
     "output_type": "stream",
     "text": [
      "Road upset alert  PIT spread  6.5\n",
      "Home dog win  ['CHI', 7.0]\n",
      "Road upset alert  CLE spread  1.5\n",
      "A friggen tie...   ['HOU', 7.0]\n",
      "Home dog win  ['MIN', 1.5]\n",
      "Road upset alert  NYG spread  5.5\n",
      "Home dog win  ['SEA', 6.5]\n",
      "Total of  6 this week.\n"
     ]
    }
   ],
   "source": [
    "#upset count week 1\n",
    "upset_count1 = upset_counter(week1)[0]\n",
    "\n"
   ]
  },
  {
   "cell_type": "code",
   "execution_count": 11,
   "metadata": {},
   "outputs": [
    {
     "name": "stdout",
     "output_type": "stream",
     "text": [
      "Road upset alert  NYJ spread  6.0\n",
      "Road upset alert  MIA spread  3.5\n",
      "Home dog win  ['JAX', 4.0]\n",
      "Road upset alert  ARI spread  5.5\n",
      "Home dog win  ['DAL', 8.0]\n",
      "Total of  5 this week.\n"
     ]
    }
   ],
   "source": [
    "upset_count2 = upset_counter(week2)[0]"
   ]
  },
  {
   "cell_type": "code",
   "execution_count": 12,
   "metadata": {},
   "outputs": [
    {
     "name": "stdout",
     "output_type": "stream",
     "text": [
      "Home dog win  ['TEN', 2.0]\n",
      "Home dog win  ['MIA', 6.0]\n",
      "Home dog win  ['IND', 6.5]\n",
      "Home dog win  ['CAR', 2.5]\n",
      "Road upset alert  JAX spread  7.0\n",
      "Road upset alert  GB spread  1.5\n",
      "Road upset alert  ATL spread  2.0\n",
      "Home dog win  ['DEN', 1.5]\n",
      "Road upset alert  DAL spread  1.0\n",
      "Total of  9 this week.\n"
     ]
    }
   ],
   "source": [
    "upset_count3 = upset_counter(week3)[0]\n"
   ]
  },
  {
   "cell_type": "code",
   "execution_count": 13,
   "metadata": {},
   "outputs": [
    {
     "name": "stdout",
     "output_type": "stream",
     "text": [
      "Road upset alert  SEA spread  4.5\n",
      "Road upset alert  NYJ spread  3.5\n",
      "Home dog win  ['ATL', 1.0]\n",
      "Road upset alert  TEN spread  3.0\n",
      "Road upset alert  ARI spread  2.0\n",
      "Total of  5 this week.\n"
     ]
    }
   ],
   "source": [
    "upset_count4 = upset_counter(week4)[0]\n"
   ]
  },
  {
   "cell_type": "code",
   "execution_count": 16,
   "metadata": {},
   "outputs": [
    {
     "data": {
      "text/html": [
       "<div>\n",
       "<style scoped>\n",
       "    .dataframe tbody tr th:only-of-type {\n",
       "        vertical-align: middle;\n",
       "    }\n",
       "\n",
       "    .dataframe tbody tr th {\n",
       "        vertical-align: top;\n",
       "    }\n",
       "\n",
       "    .dataframe thead th {\n",
       "        text-align: right;\n",
       "    }\n",
       "</style>\n",
       "<table border=\"1\" class=\"dataframe\">\n",
       "  <thead>\n",
       "    <tr style=\"text-align: right;\">\n",
       "      <th></th>\n",
       "      <th>Score</th>\n",
       "      <th>Game Count</th>\n",
       "    </tr>\n",
       "    <tr>\n",
       "      <th>Game</th>\n",
       "      <th></th>\n",
       "      <th></th>\n",
       "    </tr>\n",
       "  </thead>\n",
       "  <tbody>\n",
       "    <tr>\n",
       "      <th>Kathy Zwartz</th>\n",
       "      <td>315</td>\n",
       "      <td>39</td>\n",
       "    </tr>\n",
       "    <tr>\n",
       "      <th>Michael Zwartz</th>\n",
       "      <td>313</td>\n",
       "      <td>35</td>\n",
       "    </tr>\n",
       "    <tr>\n",
       "      <th>Lindsey</th>\n",
       "      <td>309</td>\n",
       "      <td>39</td>\n",
       "    </tr>\n",
       "    <tr>\n",
       "      <th>Bob Z</th>\n",
       "      <td>309</td>\n",
       "      <td>41</td>\n",
       "    </tr>\n",
       "    <tr>\n",
       "      <th>jjapcon</th>\n",
       "      <td>308</td>\n",
       "      <td>33</td>\n",
       "    </tr>\n",
       "  </tbody>\n",
       "</table>\n",
       "</div>"
      ],
      "text/plain": [
       "                Score  Game Count\n",
       "Game                             \n",
       "Kathy Zwartz      315          39\n",
       "Michael Zwartz    313          35\n",
       "Lindsey           309          39\n",
       "Bob Z             309          41\n",
       "jjapcon           308          33"
      ]
     },
     "execution_count": 16,
     "metadata": {},
     "output_type": "execute_result"
    }
   ],
   "source": [
    "#find season totals \n",
    "season_totals = week1_stats[['Score', 'Game Count']] + week2_stats[['Score', 'Game Count']] + week3_stats[['Score', 'Game Count']] + week4_stats[['Score', 'Game Count']]\n",
    "\n",
    "season_totals = season_totals.set_index(week1_stats['Game'])\n",
    "season_totals.sort_values(['Score'], ascending=False).head()"
   ]
  }
 ],
 "metadata": {
  "kernelspec": {
   "display_name": "Python 3.9.12 ('base')",
   "language": "python",
   "name": "python3"
  },
  "language_info": {
   "codemirror_mode": {
    "name": "ipython",
    "version": 3
   },
   "file_extension": ".py",
   "mimetype": "text/x-python",
   "name": "python",
   "nbconvert_exporter": "python",
   "pygments_lexer": "ipython3",
   "version": "3.9.12"
  },
  "orig_nbformat": 4,
  "vscode": {
   "interpreter": {
    "hash": "dbdcb66d1c96693250f301222deb253addb7cffe129c2f4d0a4da6ea226330dd"
   }
  }
 },
 "nbformat": 4,
 "nbformat_minor": 2
}
