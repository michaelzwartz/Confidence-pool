{
 "cells": [
  {
   "cell_type": "code",
   "execution_count": 371,
   "metadata": {},
   "outputs": [],
   "source": [
    "import pandas as pd\n",
    "import numpy as np\n",
    "import os\n",
    "\n",
    "#load odds and results\n",
    "data = pd.read_csv('odds&results2024.csv')\n",
    "abvr_match = pd.read_csv('team_abbrv_match.csv')\n",
    "data = data.merge(abvr_match, left_on='home_team', right_on='team_name')\n",
    "data = data.merge(abvr_match, left_on='away_team', right_on='team_name')\n",
    "odds_and_results = data.rename(columns={\"team_abbrv_x\": \"home_team_abbrv\", \"team_abbrv_y\": \"away_team_abbrv\"})\n"
   ]
  },
  {
   "cell_type": "code",
   "execution_count": 372,
   "metadata": {},
   "outputs": [],
   "source": [
    "#parse through raw output and add to full_list dataframe\n",
    "players = [37,'Billiard91','Bob Z','EllieisAwesome1','JJB','JJapcon','Jack Ballard','K-Dog','Kathy Zwartz','Kkrugz','Linds Domino','Lizzy_Z','Matt McKenna','MattWojtanek','Michael Zwartz','Midway Monsters','Murr-auders','PBW','Shan-diddy','Shaner','Shumarie','TAZ','Team Boylan','TeamGalarza1020','UrBoiJZ','Zapp','abfarias','taz7611']\n",
    "full_picks = pd.DataFrame() \n",
    "\n",
    "#parse all results for clean data file\n",
    "directory = os.fsencode('weekly_data\\picks2024')\n",
    "    \n",
    "for file in os.listdir(directory):\n",
    "    filename = os.fsdecode(file)\n",
    "    nfl_week = (filename.split(\".\")[0]).split(\"week\")[1]\n",
    "    \n",
    "    #df = pd.read_excel(f\"weekly_data\\picks2024\\{filename}\")\n",
    "    df = pd.read_excel(f\"weekly_data\\picks2024\\picks_export_week6.xls\")\n",
    "    df.columns.values[0] = \"player\" #rename column for merge\n",
    "\n",
    "    #fill in black player names in points rows\n",
    "    df.replace(\" \", np.nan, inplace=True)\n",
    "    df['player'] = df['player'].ffill()\n",
    "\n",
    "    #add 'player' for home team and drop other game rows\n",
    "    df['player'].fillna(value='home_team', inplace=True)\n",
    "    df = df.drop(index=[0,1], columns=df.columns[-1])\n",
    "\n",
    "    #reverse rows and columns\n",
    "    df1 = df.transpose()\n",
    "\n",
    "    # Make the first row the new column names\n",
    "    df1.columns = df1.iloc[0]  # Set the new column names\n",
    "    df1 = df1[1:]  # Drop the first row\n",
    "    df1 = df1.reset_index(drop=True)\n",
    "    df2 = df1.copy()\n",
    "    df2['nfl_week'] = int(nfl_week)\n",
    "\n",
    "    for player in players:\n",
    "        if player in df2.columns:\n",
    "            player_df = df2[['home_team', 'nfl_week', player]].copy()\n",
    "            player_df['player'] = player\n",
    "            player_df.columns.values[2] = \"pick\"\n",
    "            player_df.columns.values[3] = \"points\"\n",
    "            \n",
    "            #append each player to the full list        \n",
    "            full_picks = pd.concat([full_picks, player_df])"
   ]
  }
 ],
 "metadata": {
  "kernelspec": {
   "display_name": "base",
   "language": "python",
   "name": "python3"
  },
  "language_info": {
   "codemirror_mode": {
    "name": "ipython",
    "version": 3
   },
   "file_extension": ".py",
   "mimetype": "text/x-python",
   "name": "python",
   "nbconvert_exporter": "python",
   "pygments_lexer": "ipython3",
   "version": "3.9.17"
  }
 },
 "nbformat": 4,
 "nbformat_minor": 2
}
